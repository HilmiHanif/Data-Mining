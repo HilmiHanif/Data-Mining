{
 "cells": [
  {
   "cell_type": "code",
   "execution_count": 1,
   "id": "9774a74c",
   "metadata": {},
   "outputs": [
    {
     "data": {
      "text/html": [
       "<div>\n",
       "<style scoped>\n",
       "    .dataframe tbody tr th:only-of-type {\n",
       "        vertical-align: middle;\n",
       "    }\n",
       "\n",
       "    .dataframe tbody tr th {\n",
       "        vertical-align: top;\n",
       "    }\n",
       "\n",
       "    .dataframe thead th {\n",
       "        text-align: right;\n",
       "    }\n",
       "</style>\n",
       "<table border=\"1\" class=\"dataframe\">\n",
       "  <thead>\n",
       "    <tr style=\"text-align: right;\">\n",
       "      <th></th>\n",
       "      <th>Date</th>\n",
       "      <th>Title</th>\n",
       "      <th>Organization</th>\n",
       "      <th>City</th>\n",
       "      <th>State</th>\n",
       "      <th>URL</th>\n",
       "      <th>Keyword</th>\n",
       "      <th>Summary</th>\n",
       "    </tr>\n",
       "  </thead>\n",
       "  <tbody>\n",
       "    <tr>\n",
       "      <th>3368</th>\n",
       "      <td>7/14/17 15:10</td>\n",
       "      <td>Public contempt is the best deterrent against ...</td>\n",
       "      <td>Washington Post</td>\n",
       "      <td>Washington</td>\n",
       "      <td>DC</td>\n",
       "      <td>https://www.washingtonpost.com/opinions/public...</td>\n",
       "      <td>bullies cloak contempt contemptible deterrent ...</td>\n",
       "      <td>Regarding the July 12 Metro article “Hate-base...</td>\n",
       "    </tr>\n",
       "    <tr>\n",
       "      <th>3594</th>\n",
       "      <td>8/8/17 3:52</td>\n",
       "      <td>Witnesses say gunman killed man who protested ...</td>\n",
       "      <td>Newburgh Gazette</td>\n",
       "      <td>NaN</td>\n",
       "      <td>NaN</td>\n",
       "      <td>http://newburghgazette.com/2017/08/08/witnesse...</td>\n",
       "      <td>abc25 beach beers brenda cruz florida gay hern...</td>\n",
       "      <td>When they were about to leave, Mena allegedly ...</td>\n",
       "    </tr>\n",
       "    <tr>\n",
       "      <th>1488</th>\n",
       "      <td>5/16/17 10:11</td>\n",
       "      <td>Jeff Sessions Speaks Out Against Trans Hate Cr...</td>\n",
       "      <td>outfrontmagazine.com</td>\n",
       "      <td>Boulder</td>\n",
       "      <td>CO</td>\n",
       "      <td>https://www.outfrontmagazine.com/news/jeff-ses...</td>\n",
       "      <td>NaN</td>\n",
       "      <td>NaN</td>\n",
       "    </tr>\n",
       "    <tr>\n",
       "      <th>5952</th>\n",
       "      <td>11/6/17 8:41</td>\n",
       "      <td>Netflix subscribers target of 'relatively well...</td>\n",
       "      <td>KSDK</td>\n",
       "      <td>St. Louis</td>\n",
       "      <td>MO</td>\n",
       "      <td>http://www.ksdk.com/article/news/nation-now/ne...</td>\n",
       "      <td>australia card emails information mailguard ne...</td>\n",
       "      <td>An email scam targeting Netflix users aims to ...</td>\n",
       "    </tr>\n",
       "    <tr>\n",
       "      <th>2109</th>\n",
       "      <td>5/31/17 12:52</td>\n",
       "      <td>LeBron James' LA Home Vandalized</td>\n",
       "      <td>EBONY.com</td>\n",
       "      <td>New York</td>\n",
       "      <td>New York</td>\n",
       "      <td>http://www.ebony.com/news-views/home-lebron-ja...</td>\n",
       "      <td>9440 cavaliers cleveland espn gate home james ...</td>\n",
       "      <td>NaN</td>\n",
       "    </tr>\n",
       "    <tr>\n",
       "      <th>672</th>\n",
       "      <td>3/27/17 11:49</td>\n",
       "      <td>Racist Murderer Wishes Elderly Black Man He Ki...</td>\n",
       "      <td>Carbonated.tv</td>\n",
       "      <td>San Ramon</td>\n",
       "      <td>CA</td>\n",
       "      <td>http://www.carbonated.tv/news/racist-murderer-...</td>\n",
       "      <td>black caughman city daily elderly harris islan...</td>\n",
       "      <td>White supremacist James Harris Jackson reveale...</td>\n",
       "    </tr>\n",
       "    <tr>\n",
       "      <th>4750</th>\n",
       "      <td>9/17/17 16:21</td>\n",
       "      <td>North Dakota grapples with whether to adopt ha...</td>\n",
       "      <td>St. Cloud Times</td>\n",
       "      <td>St-Cloud</td>\n",
       "      <td>MN</td>\n",
       "      <td>http://www.sctimes.com/story/news/local/minnes...</td>\n",
       "      <td>abdullahi adl attorney burdick crimes fargo ha...</td>\n",
       "      <td>FARGO, ND - It was one of the uglier incidents...</td>\n",
       "    </tr>\n",
       "    <tr>\n",
       "      <th>899</th>\n",
       "      <td>4/11/17 11:00</td>\n",
       "      <td>EXCLUSIVE: Teens spout homophobic slurs, hit m...</td>\n",
       "      <td>New York Daily News</td>\n",
       "      <td>New York</td>\n",
       "      <td>NY</td>\n",
       "      <td>http://www.nydailynews.com/new-york/nyc-crime/...</td>\n",
       "      <td>aggravated assault bedford brick brooklyn cops...</td>\n",
       "      <td>BY Rocco Parascandola Thomas Tracy\\tCops charg...</td>\n",
       "    </tr>\n",
       "    <tr>\n",
       "      <th>906</th>\n",
       "      <td>4/11/17 13:42</td>\n",
       "      <td>Go back to your country': Woman chased by man ...</td>\n",
       "      <td>KOMO News</td>\n",
       "      <td>Seattle</td>\n",
       "      <td>WA</td>\n",
       "      <td>http://komonews.com/news/local/go-back-to-your...</td>\n",
       "      <td>auburn chased house knife licton mexico roller...</td>\n",
       "      <td>by Lynsi Burton, seattlepi.com staff\\tAUBURN, ...</td>\n",
       "    </tr>\n",
       "    <tr>\n",
       "      <th>4642</th>\n",
       "      <td>9/11/17 17:22</td>\n",
       "      <td>The Daily TIP: Report: Top UK Officials Believ...</td>\n",
       "      <td>The Israel Project</td>\n",
       "      <td>Washington</td>\n",
       "      <td>D.C.</td>\n",
       "      <td>http://www.theisraelproject.org/the_daily_tip_...</td>\n",
       "      <td>aid davindenkoff force foreign iran jewish jew...</td>\n",
       "      <td>Senior officials in the United Kingdom's Forei...</td>\n",
       "    </tr>\n",
       "  </tbody>\n",
       "</table>\n",
       "</div>"
      ],
      "text/plain": [
       "               Date                                              Title  \\\n",
       "3368  7/14/17 15:10  Public contempt is the best deterrent against ...   \n",
       "3594    8/8/17 3:52  Witnesses say gunman killed man who protested ...   \n",
       "1488  5/16/17 10:11  Jeff Sessions Speaks Out Against Trans Hate Cr...   \n",
       "5952   11/6/17 8:41  Netflix subscribers target of 'relatively well...   \n",
       "2109  5/31/17 12:52                   LeBron James' LA Home Vandalized   \n",
       "672   3/27/17 11:49  Racist Murderer Wishes Elderly Black Man He Ki...   \n",
       "4750  9/17/17 16:21  North Dakota grapples with whether to adopt ha...   \n",
       "899   4/11/17 11:00  EXCLUSIVE: Teens spout homophobic slurs, hit m...   \n",
       "906   4/11/17 13:42  Go back to your country': Woman chased by man ...   \n",
       "4642  9/11/17 17:22  The Daily TIP: Report: Top UK Officials Believ...   \n",
       "\n",
       "              Organization        City     State  \\\n",
       "3368       Washington Post  Washington        DC   \n",
       "3594      Newburgh Gazette         NaN       NaN   \n",
       "1488  outfrontmagazine.com     Boulder        CO   \n",
       "5952                  KSDK   St. Louis        MO   \n",
       "2109             EBONY.com    New York  New York   \n",
       "672          Carbonated.tv   San Ramon        CA   \n",
       "4750       St. Cloud Times    St-Cloud        MN   \n",
       "899    New York Daily News    New York        NY   \n",
       "906              KOMO News     Seattle        WA   \n",
       "4642    The Israel Project  Washington      D.C.   \n",
       "\n",
       "                                                    URL  \\\n",
       "3368  https://www.washingtonpost.com/opinions/public...   \n",
       "3594  http://newburghgazette.com/2017/08/08/witnesse...   \n",
       "1488  https://www.outfrontmagazine.com/news/jeff-ses...   \n",
       "5952  http://www.ksdk.com/article/news/nation-now/ne...   \n",
       "2109  http://www.ebony.com/news-views/home-lebron-ja...   \n",
       "672   http://www.carbonated.tv/news/racist-murderer-...   \n",
       "4750  http://www.sctimes.com/story/news/local/minnes...   \n",
       "899   http://www.nydailynews.com/new-york/nyc-crime/...   \n",
       "906   http://komonews.com/news/local/go-back-to-your...   \n",
       "4642  http://www.theisraelproject.org/the_daily_tip_...   \n",
       "\n",
       "                                                Keyword  \\\n",
       "3368  bullies cloak contempt contemptible deterrent ...   \n",
       "3594  abc25 beach beers brenda cruz florida gay hern...   \n",
       "1488                                                NaN   \n",
       "5952  australia card emails information mailguard ne...   \n",
       "2109  9440 cavaliers cleveland espn gate home james ...   \n",
       "672   black caughman city daily elderly harris islan...   \n",
       "4750  abdullahi adl attorney burdick crimes fargo ha...   \n",
       "899   aggravated assault bedford brick brooklyn cops...   \n",
       "906   auburn chased house knife licton mexico roller...   \n",
       "4642  aid davindenkoff force foreign iran jewish jew...   \n",
       "\n",
       "                                                Summary  \n",
       "3368  Regarding the July 12 Metro article “Hate-base...  \n",
       "3594  When they were about to leave, Mena allegedly ...  \n",
       "1488                                                NaN  \n",
       "5952  An email scam targeting Netflix users aims to ...  \n",
       "2109                                                NaN  \n",
       "672   White supremacist James Harris Jackson reveale...  \n",
       "4750  FARGO, ND - It was one of the uglier incidents...  \n",
       "899   BY Rocco Parascandola Thomas Tracy\\tCops charg...  \n",
       "906   by Lynsi Burton, seattlepi.com staff\\tAUBURN, ...  \n",
       "4642  Senior officials in the United Kingdom's Forei...  "
      ]
     },
     "execution_count": 1,
     "metadata": {},
     "output_type": "execute_result"
    }
   ],
   "source": [
    "import pandas as pd\n",
    "import numpy as np\n",
    "import tensorflow as tf\n",
    "import string\n",
    "data = pd.read_csv('US_Crime_Data.csv')\n",
    "data.sample(10)"
   ]
  },
  {
   "cell_type": "code",
   "execution_count": 2,
   "id": "5dec3595",
   "metadata": {},
   "outputs": [
    {
     "name": "stdout",
     "output_type": "stream",
     "text": [
      "<class 'pandas.core.frame.DataFrame'>\n",
      "RangeIndex: 6783 entries, 0 to 6782\n",
      "Data columns (total 8 columns):\n",
      " #   Column        Non-Null Count  Dtype \n",
      "---  ------        --------------  ----- \n",
      " 0   Date          6783 non-null   object\n",
      " 1   Title         6782 non-null   object\n",
      " 2   Organization  6783 non-null   object\n",
      " 3   City          5616 non-null   object\n",
      " 4   State         5538 non-null   object\n",
      " 5   URL           6783 non-null   object\n",
      " 6   Keyword       5607 non-null   object\n",
      " 7   Summary       4527 non-null   object\n",
      "dtypes: object(8)\n",
      "memory usage: 424.1+ KB\n"
     ]
    }
   ],
   "source": [
    "data.info()"
   ]
  },
  {
   "cell_type": "code",
   "execution_count": 3,
   "id": "a62e1d48",
   "metadata": {},
   "outputs": [
    {
     "data": {
      "text/html": [
       "<div>\n",
       "<style scoped>\n",
       "    .dataframe tbody tr th:only-of-type {\n",
       "        vertical-align: middle;\n",
       "    }\n",
       "\n",
       "    .dataframe tbody tr th {\n",
       "        vertical-align: top;\n",
       "    }\n",
       "\n",
       "    .dataframe thead th {\n",
       "        text-align: right;\n",
       "    }\n",
       "</style>\n",
       "<table border=\"1\" class=\"dataframe\">\n",
       "  <thead>\n",
       "    <tr style=\"text-align: right;\">\n",
       "      <th></th>\n",
       "      <th>Date</th>\n",
       "      <th>Title</th>\n",
       "      <th>Organization</th>\n",
       "      <th>City</th>\n",
       "      <th>State</th>\n",
       "      <th>URL</th>\n",
       "      <th>Keyword</th>\n",
       "      <th>Summary</th>\n",
       "    </tr>\n",
       "  </thead>\n",
       "  <tbody>\n",
       "    <tr>\n",
       "      <th>0</th>\n",
       "      <td>False</td>\n",
       "      <td>False</td>\n",
       "      <td>False</td>\n",
       "      <td>False</td>\n",
       "      <td>False</td>\n",
       "      <td>False</td>\n",
       "      <td>True</td>\n",
       "      <td>True</td>\n",
       "    </tr>\n",
       "    <tr>\n",
       "      <th>1</th>\n",
       "      <td>False</td>\n",
       "      <td>False</td>\n",
       "      <td>False</td>\n",
       "      <td>True</td>\n",
       "      <td>True</td>\n",
       "      <td>False</td>\n",
       "      <td>True</td>\n",
       "      <td>True</td>\n",
       "    </tr>\n",
       "    <tr>\n",
       "      <th>2</th>\n",
       "      <td>False</td>\n",
       "      <td>False</td>\n",
       "      <td>False</td>\n",
       "      <td>False</td>\n",
       "      <td>False</td>\n",
       "      <td>False</td>\n",
       "      <td>True</td>\n",
       "      <td>True</td>\n",
       "    </tr>\n",
       "    <tr>\n",
       "      <th>3</th>\n",
       "      <td>False</td>\n",
       "      <td>False</td>\n",
       "      <td>False</td>\n",
       "      <td>False</td>\n",
       "      <td>False</td>\n",
       "      <td>False</td>\n",
       "      <td>True</td>\n",
       "      <td>True</td>\n",
       "    </tr>\n",
       "    <tr>\n",
       "      <th>4</th>\n",
       "      <td>False</td>\n",
       "      <td>False</td>\n",
       "      <td>False</td>\n",
       "      <td>False</td>\n",
       "      <td>False</td>\n",
       "      <td>False</td>\n",
       "      <td>True</td>\n",
       "      <td>True</td>\n",
       "    </tr>\n",
       "    <tr>\n",
       "      <th>...</th>\n",
       "      <td>...</td>\n",
       "      <td>...</td>\n",
       "      <td>...</td>\n",
       "      <td>...</td>\n",
       "      <td>...</td>\n",
       "      <td>...</td>\n",
       "      <td>...</td>\n",
       "      <td>...</td>\n",
       "    </tr>\n",
       "    <tr>\n",
       "      <th>6778</th>\n",
       "      <td>False</td>\n",
       "      <td>False</td>\n",
       "      <td>False</td>\n",
       "      <td>False</td>\n",
       "      <td>False</td>\n",
       "      <td>False</td>\n",
       "      <td>True</td>\n",
       "      <td>True</td>\n",
       "    </tr>\n",
       "    <tr>\n",
       "      <th>6779</th>\n",
       "      <td>False</td>\n",
       "      <td>False</td>\n",
       "      <td>False</td>\n",
       "      <td>True</td>\n",
       "      <td>True</td>\n",
       "      <td>False</td>\n",
       "      <td>False</td>\n",
       "      <td>False</td>\n",
       "    </tr>\n",
       "    <tr>\n",
       "      <th>6780</th>\n",
       "      <td>False</td>\n",
       "      <td>False</td>\n",
       "      <td>False</td>\n",
       "      <td>False</td>\n",
       "      <td>False</td>\n",
       "      <td>False</td>\n",
       "      <td>False</td>\n",
       "      <td>False</td>\n",
       "    </tr>\n",
       "    <tr>\n",
       "      <th>6781</th>\n",
       "      <td>False</td>\n",
       "      <td>False</td>\n",
       "      <td>False</td>\n",
       "      <td>False</td>\n",
       "      <td>False</td>\n",
       "      <td>False</td>\n",
       "      <td>False</td>\n",
       "      <td>False</td>\n",
       "    </tr>\n",
       "    <tr>\n",
       "      <th>6782</th>\n",
       "      <td>False</td>\n",
       "      <td>False</td>\n",
       "      <td>False</td>\n",
       "      <td>True</td>\n",
       "      <td>True</td>\n",
       "      <td>False</td>\n",
       "      <td>False</td>\n",
       "      <td>True</td>\n",
       "    </tr>\n",
       "  </tbody>\n",
       "</table>\n",
       "<p>6783 rows × 8 columns</p>\n",
       "</div>"
      ],
      "text/plain": [
       "       Date  Title  Organization   City  State    URL  Keyword  Summary\n",
       "0     False  False         False  False  False  False     True     True\n",
       "1     False  False         False   True   True  False     True     True\n",
       "2     False  False         False  False  False  False     True     True\n",
       "3     False  False         False  False  False  False     True     True\n",
       "4     False  False         False  False  False  False     True     True\n",
       "...     ...    ...           ...    ...    ...    ...      ...      ...\n",
       "6778  False  False         False  False  False  False     True     True\n",
       "6779  False  False         False   True   True  False    False    False\n",
       "6780  False  False         False  False  False  False    False    False\n",
       "6781  False  False         False  False  False  False    False    False\n",
       "6782  False  False         False   True   True  False    False     True\n",
       "\n",
       "[6783 rows x 8 columns]"
      ]
     },
     "execution_count": 3,
     "metadata": {},
     "output_type": "execute_result"
    }
   ],
   "source": [
    "data.isna()"
   ]
  },
  {
   "cell_type": "code",
   "execution_count": 4,
   "id": "91e889a2",
   "metadata": {},
   "outputs": [
    {
     "data": {
      "text/plain": [
       "Date               0\n",
       "Title              1\n",
       "Organization       0\n",
       "City            1167\n",
       "State           1245\n",
       "URL                0\n",
       "Keyword         1176\n",
       "Summary         2256\n",
       "dtype: int64"
      ]
     },
     "execution_count": 4,
     "metadata": {},
     "output_type": "execute_result"
    }
   ],
   "source": [
    "data.isna().sum()"
   ]
  },
  {
   "cell_type": "code",
   "execution_count": 5,
   "id": "30c64684",
   "metadata": {},
   "outputs": [
    {
     "data": {
      "text/html": [
       "<div>\n",
       "<style scoped>\n",
       "    .dataframe tbody tr th:only-of-type {\n",
       "        vertical-align: middle;\n",
       "    }\n",
       "\n",
       "    .dataframe tbody tr th {\n",
       "        vertical-align: top;\n",
       "    }\n",
       "\n",
       "    .dataframe thead th {\n",
       "        text-align: right;\n",
       "    }\n",
       "</style>\n",
       "<table border=\"1\" class=\"dataframe\">\n",
       "  <thead>\n",
       "    <tr style=\"text-align: right;\">\n",
       "      <th></th>\n",
       "      <th>Title</th>\n",
       "    </tr>\n",
       "  </thead>\n",
       "  <tbody>\n",
       "    <tr>\n",
       "      <th>0</th>\n",
       "      <td>Pizza Hut driver who killed co-worker with sho...</td>\n",
       "    </tr>\n",
       "    <tr>\n",
       "      <th>1</th>\n",
       "      <td>Residents of NJ township receiving KKK promoti...</td>\n",
       "    </tr>\n",
       "    <tr>\n",
       "      <th>2</th>\n",
       "      <td>House OKs bill to expand Kentucky's hate crime...</td>\n",
       "    </tr>\n",
       "    <tr>\n",
       "      <th>3</th>\n",
       "      <td>Amid Protests, 'Blue Lives Matter' Bill Passes...</td>\n",
       "    </tr>\n",
       "    <tr>\n",
       "      <th>4</th>\n",
       "      <td>Lafourche inmates charged with hate crimes in ...</td>\n",
       "    </tr>\n",
       "  </tbody>\n",
       "</table>\n",
       "</div>"
      ],
      "text/plain": [
       "                                               Title\n",
       "0  Pizza Hut driver who killed co-worker with sho...\n",
       "1  Residents of NJ township receiving KKK promoti...\n",
       "2  House OKs bill to expand Kentucky's hate crime...\n",
       "3  Amid Protests, 'Blue Lives Matter' Bill Passes...\n",
       "4  Lafourche inmates charged with hate crimes in ..."
      ]
     },
     "execution_count": 5,
     "metadata": {},
     "output_type": "execute_result"
    }
   ],
   "source": [
    "df = data[['Title']]\n",
    "df = df.dropna().reset_index(drop = True)\n",
    "df.head()"
   ]
  },
  {
   "cell_type": "code",
   "execution_count": 6,
   "id": "f88864fd",
   "metadata": {},
   "outputs": [
    {
     "data": {
      "text/plain": [
       "(6782, 1)"
      ]
     },
     "execution_count": 6,
     "metadata": {},
     "output_type": "execute_result"
    }
   ],
   "source": [
    "df.shape"
   ]
  },
  {
   "cell_type": "code",
   "execution_count": 7,
   "id": "cbfd3f06",
   "metadata": {},
   "outputs": [],
   "source": [
    "def clean_text(df):\n",
    "    df['Title'] = df['Title'].apply(lambda x : x.lower())\n",
    "    tokens = df['Title'].str.replace('[{}]'.format(string.punctuation), '')\n",
    "    return tokens"
   ]
  },
  {
   "cell_type": "code",
   "execution_count": 9,
   "id": "9835431f",
   "metadata": {},
   "outputs": [
    {
     "name": "stderr",
     "output_type": "stream",
     "text": [
      "C:\\Users\\LENOVO\\AppData\\Local\\Temp\\ipykernel_19288\\363633391.py:3: FutureWarning: The default value of regex will change from True to False in a future version.\n",
      "  tokens = df['Title'].str.replace('[{}]'.format(string.punctuation), '')\n"
     ]
    }
   ],
   "source": [
    "tokens = clean_text(df)"
   ]
  },
  {
   "cell_type": "code",
   "execution_count": 10,
   "id": "2519fb94",
   "metadata": {},
   "outputs": [
    {
     "data": {
      "text/plain": [
       "0       pizza hut driver who killed coworker with shot...\n",
       "1       residents of nj township receiving kkk promoti...\n",
       "2       house oks bill to expand kentuckys hate crimes...\n",
       "3       amid protests blue lives matter bill passes ke...\n",
       "4       lafourche inmates charged with hate crimes in ...\n",
       "                              ...                        \n",
       "6777    police rash of vandalism on margate menorahs i...\n",
       "6778    exstudent accused of smearing used tampon on r...\n",
       "6779    queensbury woman charged with hate crime again...\n",
       "6780    hate crime hartford student accused of smearin...\n",
       "6781    police make arrest following alleged hate crim...\n",
       "Name: Title, Length: 6782, dtype: object"
      ]
     },
     "execution_count": 10,
     "metadata": {},
     "output_type": "execute_result"
    }
   ],
   "source": [
    "tokens"
   ]
  },
  {
   "cell_type": "code",
   "execution_count": 11,
   "id": "ecf47eac",
   "metadata": {},
   "outputs": [
    {
     "data": {
      "text/plain": [
       "6563"
      ]
     },
     "execution_count": 11,
     "metadata": {},
     "output_type": "execute_result"
    }
   ],
   "source": [
    "len(set(tokens))"
   ]
  },
  {
   "cell_type": "code",
   "execution_count": 12,
   "id": "b7183661",
   "metadata": {},
   "outputs": [],
   "source": [
    "tokenizer = tf.keras.preprocessing.text.Tokenizer()\n",
    "tokenizer.fit_on_texts(tokens)\n",
    "seq = tokenizer.texts_to_sequences(tokens)"
   ]
  },
  {
   "cell_type": "code",
   "execution_count": 13,
   "id": "506bffba",
   "metadata": {},
   "outputs": [
    {
     "data": {
      "text/plain": [
       "[[3973, 3974, 450, 47, 88, 3975, 12, 2211, 103, 1370, 2803],\n",
       " [830, 4, 423, 1558, 2212, 470, 3976, 672],\n",
       " [257, 1846, 75, 5, 593, 3977, 1, 6, 36],\n",
       " [721, 898, 480, 274, 301, 75, 481, 634, 257],\n",
       " [3978, 2804, 16, 12, 1, 6, 3, 424, 19],\n",
       " [13, 722, 1, 2, 48, 594, 3979, 5, 401],\n",
       " [3980, 480, 274, 301, 75, 21, 1371, 2805, 5, 214, 3981, 173],\n",
       " [194, 320, 18, 402, 2806, 239, 15, 98, 38],\n",
       " [194,\n",
       "  320,\n",
       "  18,\n",
       "  402,\n",
       "  2806,\n",
       "  239,\n",
       "  15,\n",
       "  98,\n",
       "  38,\n",
       "  635,\n",
       "  174,\n",
       "  556,\n",
       "  557,\n",
       "  14,\n",
       "  498,\n",
       "  558,\n",
       "  275,\n",
       "  42],\n",
       " [33, 174, 673, 302, 2, 1372, 2807, 3, 2213]]"
      ]
     },
     "execution_count": 13,
     "metadata": {},
     "output_type": "execute_result"
    }
   ],
   "source": [
    "seq[:10]"
   ]
  },
  {
   "cell_type": "code",
   "execution_count": 14,
   "id": "43d727ad",
   "metadata": {},
   "outputs": [
    {
     "name": "stdout",
     "output_type": "stream",
     "text": [
      "Total Words Dropped : 12\n"
     ]
    }
   ],
   "source": [
    "x = []\n",
    "y = []\n",
    "total_words_drop = 0\n",
    "for i in seq:\n",
    "    if len(i) > 1:\n",
    "        for j in range(1, len(i)):\n",
    "            x.append(i[:j])\n",
    "            y.append(i[j])\n",
    "            \n",
    "    else : \n",
    "        total_words_drop +=1\n",
    "print('Total Words Dropped : {}'.format(total_words_drop))"
   ]
  },
  {
   "cell_type": "code",
   "execution_count": 15,
   "id": "9d0d0294",
   "metadata": {},
   "outputs": [],
   "source": [
    "x = tf.keras.preprocessing.sequence.pad_sequences(x)"
   ]
  },
  {
   "cell_type": "code",
   "execution_count": 16,
   "id": "9a3cf18d",
   "metadata": {},
   "outputs": [
    {
     "data": {
      "text/plain": [
       "(64701, 49)"
      ]
     },
     "execution_count": 16,
     "metadata": {},
     "output_type": "execute_result"
    }
   ],
   "source": [
    "x.shape"
   ]
  },
  {
   "cell_type": "code",
   "execution_count": 17,
   "id": "80ccf97d",
   "metadata": {},
   "outputs": [],
   "source": [
    "y = tf.keras.utils.to_categorical(y)"
   ]
  },
  {
   "cell_type": "code",
   "execution_count": 18,
   "id": "07e8f3c2",
   "metadata": {},
   "outputs": [
    {
     "data": {
      "text/plain": [
       "(64701, 7569)"
      ]
     },
     "execution_count": 18,
     "metadata": {},
     "output_type": "execute_result"
    }
   ],
   "source": [
    "y.shape"
   ]
  },
  {
   "cell_type": "code",
   "execution_count": 19,
   "id": "08bfe1c3",
   "metadata": {},
   "outputs": [
    {
     "data": {
      "text/plain": [
       "7569"
      ]
     },
     "execution_count": 19,
     "metadata": {},
     "output_type": "execute_result"
    }
   ],
   "source": [
    "vocab_size = len(tokenizer.word_index) + 1\n",
    "vocab_size"
   ]
  },
  {
   "cell_type": "code",
   "execution_count": null,
   "id": "b213460a",
   "metadata": {},
   "outputs": [],
   "source": []
  }
 ],
 "metadata": {
  "kernelspec": {
   "display_name": "Python 3 (ipykernel)",
   "language": "python",
   "name": "python3"
  },
  "language_info": {
   "codemirror_mode": {
    "name": "ipython",
    "version": 3
   },
   "file_extension": ".py",
   "mimetype": "text/x-python",
   "name": "python",
   "nbconvert_exporter": "python",
   "pygments_lexer": "ipython3",
   "version": "3.11.2"
  }
 },
 "nbformat": 4,
 "nbformat_minor": 5
}
